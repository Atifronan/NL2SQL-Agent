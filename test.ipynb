{
 "cells": [
  {
   "cell_type": "code",
   "execution_count": 4,
   "metadata": {},
   "outputs": [
    {
     "name": "stdout",
     "output_type": "stream",
     "text": [
      "{'input': 'What is the total amount for CASH IN in account statement table?', 'output': 'select sum(account_statement.\"TXN_AMT\") from account_statement where account_statement.\"TXN_TYPE\" = \\'CASH IN\\';'}\n",
      "{'input': 'Number of App transactions in account statement table?', 'output': 'select count(account_statement.\"TXN_TYPE\") from account_statement where account_statement.\"TXN_TYPE\" = \\'APP\\';'}\n",
      "{'input': 'Total amount of cash out from account statement table from 01-11-2017 to 31-12-2020?', 'output': 'select sum(account_statement.\"TXN_AMT\") from account_statement where account_statement.\"TXN_TYPE\" = \\'CASH OUT\\' and account_statement.\"TXN_DATE_TIME\" between \\'2017-11-01\\' and \\'2020-12-31\\';'}\n",
      "{'input': 'How many transactions are there in account statement table for cash out using app?', 'output': 'select count(account_statement.\"TXN_TYPE\") from account_statement where account_statement.\"TXN_TYPE\" = \\'CASH OUT\\' and account_statement.\"CHANNEL\" = \\'APP\\';'}\n",
      "{'input': 'Give me the total amount for each transaction type in account statement table?', 'output': 'select account_statement.\"TXN_TYPE\", sum(account_statement.\"TXN_AMT\") from account_statement group by account_statement.\"TXN_TYPE\";'}\n",
      "{'input': 'Give me the total CASH IN amount for november 2018', 'output': 'select * from account_statement as a where a.\"TXN_TYPE\" = \\'CASH IN\\' AND a.\"TXN_DATE_TIME\" BETWEEN \\'2018-11-01\\' AND \\'2018-11-30\\';'}\n"
     ]
    }
   ],
   "source": [
    "import pandas as pd\n",
    "\n",
    "read=pd.read_excel('files/examples.xlsx').to_dict(orient='records')\n",
    "\n",
    "for i in read:\n",
    "    print(i)\n"
   ]
  }
 ],
 "metadata": {
  "kernelspec": {
   "display_name": "Python 3",
   "language": "python",
   "name": "python3"
  },
  "language_info": {
   "codemirror_mode": {
    "name": "ipython",
    "version": 3
   },
   "file_extension": ".py",
   "mimetype": "text/x-python",
   "name": "python",
   "nbconvert_exporter": "python",
   "pygments_lexer": "ipython3",
   "version": "3.13.1"
  }
 },
 "nbformat": 4,
 "nbformat_minor": 2
}
